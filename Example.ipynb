{
 "cells": [
  {
   "cell_type": "code",
   "execution_count": null,
   "metadata": {},
   "outputs": [],
   "source": [
    "# Import dependencies\n",
    "import manager"
   ]
  },
  {
   "cell_type": "code",
   "execution_count": 13,
   "metadata": {},
   "outputs": [
    {
     "name": "stdout",
     "output_type": "stream",
     "text": [
      "load end2end.onnx with onnxruntime backend\n",
      "frame: 1800\r"
     ]
    }
   ],
   "source": [
    "# Reimport dependencies (for if changes are made to avoid restarting kernel each time)\n",
    "import importlib\n",
    "importlib.reload(manager)\n",
    "importlib.reload(manager.utils)\n",
    "\n",
    "# Specify videos to use\n",
    "vid1 = \"In/iPad Vid 1.mov\"\n",
    "StartFrame1 = 128\n",
    "vid2 = \"In/iPhone Vid 1.mov\"\n",
    "StartFrame2 = 176\n",
    "\n",
    "# Create manager object and process video\n",
    "a = manager.BodyManager()\n",
    "a.ProcessVideo(vid1, StartFrame1, vid2, StartFrame2, \"BodiesOut1.mp4\", length=1800)"
   ]
  }
 ],
 "metadata": {
  "kernelspec": {
   "display_name": "Python 3",
   "language": "python",
   "name": "python3"
  },
  "language_info": {
   "codemirror_mode": {
    "name": "ipython",
    "version": 3
   },
   "file_extension": ".py",
   "mimetype": "text/x-python",
   "name": "python",
   "nbconvert_exporter": "python",
   "pygments_lexer": "ipython3",
   "version": "3.11.1"
  }
 },
 "nbformat": 4,
 "nbformat_minor": 2
}
